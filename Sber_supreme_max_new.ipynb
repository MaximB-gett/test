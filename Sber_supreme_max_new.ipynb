{
 "cells": [
  {
   "cell_type": "code",
   "execution_count": 1,
   "metadata": {
    "ExecuteTime": {
     "end_time": "2020-06-01T06:02:51.865852Z",
     "start_time": "2020-06-01T06:02:49.442080Z"
    }
   },
   "outputs": [],
   "source": [
    "import requests\n",
    "import urllib3\n",
    "import pandas as pd\n",
    "from pyhive import presto\n",
    "import os\n",
    "import sys\n",
    "import pymysql\n",
    "from sqlalchemy import create_engine\n",
    "from pyhive import presto\n",
    "import urllib3\n",
    "import requests\n",
    "import json\n",
    "from shapely.geometry import shape, Point\n",
    "import warnings; warnings.filterwarnings('ignore')\n",
    "import qgrid\n",
    "import subprocess"
   ]
  },
  {
   "cell_type": "code",
   "execution_count": 2,
   "metadata": {
    "ExecuteTime": {
     "end_time": "2020-06-01T06:02:51.885566Z",
     "start_time": "2020-06-01T06:02:51.871567Z"
    }
   },
   "outputs": [],
   "source": [
    "#get credentials (login and password)\n",
    "os.chdir('C:/Users/maxim.buldakov/Desktop/Private')\n",
    "ppp = pd.read_csv('ppp.txt')\n",
    "\n",
    "def query_presto(q):\n",
    "    presto_session = requests.Session()\n",
    "    presto_session.verify = 'C:/Users/maxim.buldakov/AppData/Local/Continuum/anaconda3/presto.crt'\n",
    "    auth={'auth':requests.auth.HTTPBasicAuth(ppp.iloc[0]['---'], ppp.iloc[1]['---'])}\n",
    "    conn = presto.connect(host=\"presto-sqlpy.gett.io\", port=8443, protocol='https',\n",
    "                          requests_kwargs=auth, requests_session=presto_session)\n",
    "    data = pd.read_sql(q, conn)\n",
    "    conn.close()\n",
    "    return data"
   ]
  },
  {
   "cell_type": "markdown",
   "metadata": {},
   "source": [
    "## Queries and processing"
   ]
  },
  {
   "cell_type": "code",
   "execution_count": 3,
   "metadata": {
    "ExecuteTime": {
     "end_time": "2020-06-01T06:02:51.904479Z",
     "start_time": "2020-06-01T06:02:51.900489Z"
    }
   },
   "outputs": [],
   "source": [
    "start_date = '2020-05-01'\n",
    "end_date = '2020-05-31'"
   ]
  },
  {
   "cell_type": "code",
   "execution_count": 4,
   "metadata": {
    "ExecuteTime": {
     "end_time": "2020-06-01T06:03:11.624909Z",
     "start_time": "2020-06-01T06:03:03.705199Z"
    }
   },
   "outputs": [],
   "source": [
    "# citibank - only business rides should be in report!\n",
    "# (30% discount for citibank business (10% compensation by citibank in other report))\n",
    "\n",
    "query_rides_visa = f'''\n",
    "select\n",
    "fo.order_gk\n",
    ",fo.sourceid\n",
    ",substring(cast(fo.order_gk as varchar(20)),5,length(cast(fo.order_gk as varchar(20)))) as order_gk_str\n",
    ",fo.riding_user_gk\n",
    ",case\n",
    "when lower(dct.class_type_desc) like '%sber%'\n",
    "then 'Sberbank'\n",
    "else 'VISA' end as financing_type\n",
    ",fo.date_key as date_key\n",
    ",case\n",
    "when (lower(dct.class_type_desc_eng) like '%vip%'\n",
    "     or lower(dct.class_type_desc_eng) like '%luxe%')\n",
    "then 'VIP'\n",
    "when lower(dct.class_type_desc_eng) like '%delivery%'\n",
    "then 'Delivery'\n",
    "when ((lower(dct.class_type_desc_eng) like '%moscow designated%' and fo.date_key >= date '2020-04-20')\n",
    "     or (lower(dct.class_type_desc_eng) like '%sp designated%' and fo.date_key >= date '2020-04-20'))\n",
    "then 'Delivery premium'     \n",
    "else 'Business' end as class_group\n",
    ",lower(dct.class_type_desc_eng) as class\n",
    ",case\n",
    "when (lower(dct.class_type_desc_eng) like '%sber%')\n",
    "     or (lower(dct.class_type_desc_eng) like '%citibank%')\n",
    "then fo.customer_total_cost_inc_vat/0.7\n",
    "else fo.customer_total_cost_inc_vat/0.85 end as tariff\n",
    ",case\n",
    "when (lower(dct.class_type_desc_eng) like '%sber%')\n",
    "     or (lower(dct.class_type_desc_eng) like '%citibank%')\n",
    "then fo.customer_total_cost_inc_vat/0.7*0.13\n",
    "else fo.customer_total_cost_inc_vat/0.85*0.13 end as visa_financing\n",
    ",case\n",
    "when (lower(dct.class_type_desc_eng) like '%sber%')\n",
    "     or (lower(dct.class_type_desc_eng) like '%citibank%')\n",
    "then fo.customer_total_cost_inc_vat/0.7*0.02\n",
    "else fo.customer_total_cost_inc_vat/0.85*0.02\n",
    "end as gett_financing\n",
    ",fo.customer_total_cost_inc_vat as client_price\n",
    ",fo.paid_with_prepaid\n",
    "        \n",
    "from emilia_gettdwh.dwh_fact_orders_v fo\n",
    "join emilia_gettdwh.dwh_dim_class_types_v dct on dct.class_type_key = fo.class_type_key\n",
    "\n",
    "where\n",
    "fo.order_status_key in (7)\n",
    "and fo.date_key between DATE '{start_date}' and DATE '{end_date}'\n",
    "and fo.country_key = 2\n",
    "and fo.payment_type_key = 3\n",
    "and lower(dct.class_type_desc) like '%visa%'\n",
    "and lower(dct.class_type_desc) not like '%citibank15%'\n",
    "and lower(dct.class_type_desc) not like '%alfa%'\n",
    "and lower(dct.class_type_desc) not like '%sber20%'\n",
    "and lower(dct.class_type_desc) not like '%open20%'\n",
    "'''\n",
    "\n",
    "rides_visa = query_presto(query_rides_visa)"
   ]
  },
  {
   "cell_type": "code",
   "execution_count": 5,
   "metadata": {
    "ExecuteTime": {
     "end_time": "2020-06-01T06:03:11.652840Z",
     "start_time": "2020-06-01T06:03:11.644860Z"
    }
   },
   "outputs": [
    {
     "name": "stdout",
     "output_type": "stream",
     "text": [
      "(13020, 13)\n",
      "(13020,)\n"
     ]
    }
   ],
   "source": [
    "print(rides_visa.shape)\n",
    "print(rides_visa['order_gk_str'].unique().shape)"
   ]
  },
  {
   "cell_type": "code",
   "execution_count": 6,
   "metadata": {
    "ExecuteTime": {
     "end_time": "2020-06-01T06:03:11.686744Z",
     "start_time": "2020-06-01T06:03:11.670786Z"
    }
   },
   "outputs": [
    {
     "name": "stdout",
     "output_type": "stream",
     "text": [
      "<class 'pandas.core.frame.DataFrame'>\n",
      "RangeIndex: 13020 entries, 0 to 13019\n",
      "Data columns (total 2 columns):\n",
      "client_price    12973 non-null object\n",
      "order_gk        13020 non-null int64\n",
      "dtypes: int64(1), object(1)\n",
      "memory usage: 203.6+ KB\n",
      "None\n",
      "----------\n",
      "rows with zero tariff: 9\n"
     ]
    }
   ],
   "source": [
    "print(rides_visa[['client_price', 'order_gk']].info())\n",
    "print('----------')\n",
    "print('rows with zero tariff:', rides_visa['tariff'][rides_visa['tariff'].astype('float64') == 0].count())"
   ]
  },
  {
   "cell_type": "markdown",
   "metadata": {},
   "source": [
    "## If many NaN figures do next"
   ]
  },
  {
   "cell_type": "code",
   "execution_count": 28,
   "metadata": {
    "ExecuteTime": {
     "end_time": "2020-04-29T18:17:14.108677Z",
     "start_time": "2020-04-29T18:15:42.988358Z"
    }
   },
   "outputs": [
    {
     "name": "stdout",
     "output_type": "stream",
     "text": [
      "summ.shape: (891656, 2)\n"
     ]
    }
   ],
   "source": [
    "query_add = f'''\n",
    "select o.id\n",
    ",o.cost_total_for_company_inc_vat\n",
    "\n",
    "from \"gt-ru\".gettaxi_ru_production.orders o\n",
    "\n",
    "where o.status_id = 7\n",
    "and o.created_at between (date '{start_date}' - interval '1' day) and (date '{end_date}' + interval '1' day)\n",
    "'''\n",
    "\n",
    "summ = query_presto(query_add)\n",
    "print('summ.shape:', summ.shape)"
   ]
  },
  {
   "cell_type": "code",
   "execution_count": 60,
   "metadata": {
    "ExecuteTime": {
     "end_time": "2019-12-02T08:50:37.506464Z",
     "start_time": "2019-12-02T08:50:32.467297Z"
    }
   },
   "outputs": [],
   "source": [
    "os.chdir('C:/Users/maxim.buldakov/Desktop')\n",
    "\n",
    "summ.to_csv('query_add.csv', index=False)"
   ]
  },
  {
   "cell_type": "code",
   "execution_count": 64,
   "metadata": {
    "ExecuteTime": {
     "end_time": "2019-12-02T08:52:17.097943Z",
     "start_time": "2019-12-02T08:52:04.259520Z"
    }
   },
   "outputs": [],
   "source": [
    "q = pd.merge(rides_visa, summ, left_on = 'sourceid', right_on = 'id', how ='left')\n",
    "q = q.drop(columns = ['sourceid', 'id'])\n",
    "change = ['tariff','visa_financing','gett_financing','client_price','cost_total_for_company_inc_vat']\n",
    "\n",
    "for i in range(0, len(change)):\n",
    "    q[change] = q[change].astype('float64')\n",
    "    \n",
    "#calculation\n",
    "q['tariff2'] = q.apply(lambda x: x['cost_total_for_company_inc_vat']/0.7\n",
    "                       if ('sber' in x['class'] or 'citibank' in x['class'])\n",
    "                       else x['cost_total_for_company_inc_vat']/0.8 if 'business' in x['class']\n",
    "                       else x['cost_total_for_company_inc_vat']/0.85, axis = 1)\n",
    "q['visa_financing2'] = q.apply(lambda x: x['cost_total_for_company_inc_vat']/0.7*0.13\n",
    "                               if (('sber' in x['class'] or 'citibank' in x['class']) and 'business' in x['class'])\n",
    "                               else x['cost_total_for_company_inc_vat']/0.7*0.13\n",
    "                               if (('sber' in x['class'] or 'citibank' in x['class']))\n",
    "                               else x['cost_total_for_company_inc_vat']/0.8*0.13 if ('business' in x['class'])\n",
    "                               else x['cost_total_for_company_inc_vat']/0.85*0.13, axis = 1)\n",
    "q['gett_financing2'] = q.apply(lambda x: x['cost_total_for_company_inc_vat']/0.7*0.07\n",
    "                               if ('sber' in x['class'] and 'business' in x['class'])\n",
    "                               else x['cost_total_for_company_inc_vat']/0.7*0.02\n",
    "                               if ('sber' in x['class'] or 'citibank' in x['class'])\n",
    "                               else x['cost_total_for_company_inc_vat']/0.8*0.07\n",
    "                               if ('business' in x['class'])\n",
    "                               else x['cost_total_for_company_inc_vat']/0.85*0.02, axis = 1)\n",
    "\n",
    "#change if NaN figures in main base\n",
    "q['tariff'] = q.apply(lambda x: x['tariff2'] if (x['client_price'] == 0 or pd.isnull(x['client_price']))\n",
    "                      else x['tariff'], axis = 1)\n",
    "q['visa_financing'] = q.apply(lambda x: x['visa_financing2'] if (x['client_price'] == 0 or pd.isnull(x['client_price']))\n",
    "                      else x['visa_financing'], axis = 1)\n",
    "q['gett_financing'] = q.apply(lambda x: x['gett_financing2'] if (x['client_price'] == 0 or pd.isnull(x['client_price']))\n",
    "                      else x['gett_financing'], axis = 1)\n",
    "q['client_price'] = q.apply(lambda x: x['cost_total_for_company_inc_vat']\n",
    "                            if (x['client_price'] == 0 or pd.isnull(x['client_price']))\n",
    "                      else x['client_price'], axis = 1)\n",
    "q = q.drop(columns = ['tariff2', 'visa_financing2', 'gett_financing2', 'cost_total_for_company_inc_vat'])\n",
    "rides_visa = q.copy()"
   ]
  },
  {
   "cell_type": "code",
   "execution_count": 65,
   "metadata": {
    "ExecuteTime": {
     "end_time": "2019-12-02T08:52:20.102750Z",
     "start_time": "2019-12-02T08:52:20.094771Z"
    }
   },
   "outputs": [
    {
     "name": "stdout",
     "output_type": "stream",
     "text": [
      "<class 'pandas.core.frame.DataFrame'>\n",
      "Int64Index: 50327 entries, 0 to 50326\n",
      "Data columns (total 2 columns):\n",
      "client_price    50327 non-null float64\n",
      "order_gk        50327 non-null int64\n",
      "dtypes: float64(1), int64(1)\n",
      "memory usage: 1.2 MB\n"
     ]
    }
   ],
   "source": [
    "rides_visa[['client_price', 'order_gk']].info()"
   ]
  },
  {
   "cell_type": "markdown",
   "metadata": {},
   "source": [
    "## Continue"
   ]
  },
  {
   "cell_type": "code",
   "execution_count": 7,
   "metadata": {
    "ExecuteTime": {
     "end_time": "2020-06-01T06:04:39.970924Z",
     "start_time": "2020-06-01T06:04:39.953970Z"
    }
   },
   "outputs": [
    {
     "name": "stdout",
     "output_type": "stream",
     "text": [
      "column sourceid deleted (no NaN figures)\n"
     ]
    }
   ],
   "source": [
    "if 'sourceid' in rides_visa.columns:\n",
    "    rides_visa.drop(columns = 'sourceid', inplace = True)\n",
    "    print('column sourceid deleted (no NaN figures)')\n",
    "else:\n",
    "    print('column sourceid not found (NaN figures part ran)')"
   ]
  },
  {
   "cell_type": "code",
   "execution_count": 8,
   "metadata": {
    "ExecuteTime": {
     "end_time": "2020-06-01T06:04:40.463645Z",
     "start_time": "2020-06-01T06:04:40.446653Z"
    }
   },
   "outputs": [
    {
     "data": {
      "text/plain": [
       "(13020,)"
      ]
     },
     "execution_count": 8,
     "metadata": {},
     "output_type": "execute_result"
    }
   ],
   "source": [
    "rides_visa['order_gk_str'].unique().shape"
   ]
  },
  {
   "cell_type": "code",
   "execution_count": 9,
   "metadata": {
    "ExecuteTime": {
     "end_time": "2020-06-01T06:04:40.849575Z",
     "start_time": "2020-06-01T06:04:40.829631Z"
    }
   },
   "outputs": [],
   "source": [
    "rides_visa['date_key_time'] = pd.to_datetime(rides_visa['date_key'])\n",
    "rides_visa['date_key'] = rides_visa['date_key_time'].dt.date\n",
    "\n",
    "uninque_orders = tuple(list(rides_visa['order_gk']))\n",
    "uninque_orders_str = tuple(list(rides_visa['order_gk_str']))\n",
    "uninque_orders_str_2 = uninque_orders_str"
   ]
  },
  {
   "cell_type": "code",
   "execution_count": 10,
   "metadata": {
    "ExecuteTime": {
     "end_time": "2020-06-01T06:07:24.072044Z",
     "start_time": "2020-06-01T06:04:41.261474Z"
    }
   },
   "outputs": [
    {
     "name": "stdout",
     "output_type": "stream",
     "text": [
      "(13019, 2)\n"
     ]
    }
   ],
   "source": [
    "query_ftrs = f'''\n",
    "with all_rides as\n",
    "(select\n",
    "fo.order_gk,\n",
    "du.registration_date_key,\n",
    "fo.date_key,\n",
    "fo.ride_start_datetime as visa_ride_start_datetime,\n",
    "fr.ride_start_datetime as previous_rides_start_datetime,\n",
    "row_number() over (partition by fo.order_gk order by fo.order_gk, fr.ride_start_datetime ) is_ftr\n",
    "\n",
    "from emilia_gettdwh.dwh_fact_orders_v fo\n",
    "join emilia_gettdwh.dwh_fact_rides_v fr on fr.riding_user_gk = fo.riding_user_gk and fr.ride_start_datetime <= fo.ride_start_datetime\n",
    "join emilia_gettdwh.dwh_dim_users_v du on du.user_gk = fo.riding_user_gk\n",
    "join emilia_gettdwh.dwh_dim_class_types_v dct on dct.class_type_key = fr.class_type_key\n",
    "\n",
    "where\n",
    "fo.order_gk in {uninque_orders})\n",
    "\n",
    "select\n",
    "ar.order_gk,\n",
    "case when ar.is_ftr = 1 and DATE_DIFF('day', ar.registration_date_key, ar.date_key) between 0 and 90 then 1 else 0 end as is_ftr\n",
    "from all_rides ar\n",
    "where ar.visa_ride_start_datetime = ar.previous_rides_start_datetime\n",
    "'''\n",
    "\n",
    "ftrs_pd = query_presto(query_ftrs)\n",
    "print(ftrs_pd.shape)"
   ]
  },
  {
   "cell_type": "code",
   "execution_count": 11,
   "metadata": {
    "ExecuteTime": {
     "end_time": "2020-06-01T06:07:24.127862Z",
     "start_time": "2020-06-01T06:07:24.094986Z"
    }
   },
   "outputs": [
    {
     "name": "stdout",
     "output_type": "stream",
     "text": [
      "(13020, 14)\n"
     ]
    }
   ],
   "source": [
    "rides_visa = pd.merge(rides_visa, ftrs_pd, left_on = 'order_gk', right_on = 'order_gk', how ='left')\n",
    "print(rides_visa.shape)"
   ]
  },
  {
   "cell_type": "code",
   "execution_count": 12,
   "metadata": {
    "ExecuteTime": {
     "end_time": "2020-06-01T06:07:46.571643Z",
     "start_time": "2020-06-01T06:07:24.154790Z"
    }
   },
   "outputs": [],
   "source": [
    "query_tranc = f'''\n",
    "select\n",
    "fct.order_gk\n",
    ",dcc.last4\n",
    ",dcc.bin_number\n",
    ",tx_type\n",
    "\n",
    "from dwh.dim_credit_cards_v dcc\n",
    "join dwh.fact_ccs_transactions_v fct on fct.credit_card_gk = dcc.credit_card_gk\n",
    "\n",
    "where\n",
    "fct.order_gk in {uninque_orders}\n",
    "and fct.status = 'completed' \n",
    "and tx_type in ('charge', 'prepaid', 'settle')\n",
    "and fct.exception_text is null\n",
    "'''\n",
    "\n",
    "df_trans = query_presto(query_tranc)"
   ]
  },
  {
   "cell_type": "code",
   "execution_count": 13,
   "metadata": {
    "ExecuteTime": {
     "end_time": "2020-06-01T06:07:46.609545Z",
     "start_time": "2020-06-01T06:07:46.601568Z"
    }
   },
   "outputs": [
    {
     "data": {
      "text/plain": [
       "(12959,)"
      ]
     },
     "execution_count": 13,
     "metadata": {},
     "output_type": "execute_result"
    }
   ],
   "source": [
    "df_trans['order_gk'].unique().shape"
   ]
  },
  {
   "cell_type": "markdown",
   "metadata": {},
   "source": [
    "## Add extra rides from redshift"
   ]
  },
  {
   "cell_type": "code",
   "execution_count": 29,
   "metadata": {
    "ExecuteTime": {
     "end_time": "2019-06-24T10:33:06.314283Z",
     "start_time": "2019-06-24T10:33:06.302909Z"
    }
   },
   "outputs": [
    {
     "ename": "SyntaxError",
     "evalue": "invalid syntax (<ipython-input-29-8f0c24b5ab59>, line 9)",
     "output_type": "error",
     "traceback": [
      "\u001b[1;36m  File \u001b[1;32m\"<ipython-input-29-8f0c24b5ab59>\"\u001b[1;36m, line \u001b[1;32m9\u001b[0m\n\u001b[1;33m    from dwh.staging_ccs.orders po\u001b[0m\n\u001b[1;37m                                 ^\u001b[0m\n\u001b[1;31mSyntaxError\u001b[0m\u001b[1;31m:\u001b[0m invalid syntax\n"
     ]
    }
   ],
   "source": [
    "# не запускать здесь! запрос на создание файла из redshift (DBeaver)\n",
    "\n",
    "select\n",
    "po.external_id,\n",
    "pcc.last_4,\n",
    "pcc.bin_number,\n",
    "pt.status,\n",
    "pt.tx_type\n",
    "from dwh.staging_ccs.orders po\n",
    "join dwh.staging_ccs.transactions pt on po.id = pt.order_id\n",
    "join dwh.staging_ccs.credit_cards pcc on pt.credit_card_id = pcc.id\n",
    "--join dwh.staging_ru.orders sto on po.id = sto.id\n",
    "where pt.status = 'completed'\n",
    "and pt.tx_type in ('charge', 'prepaid', 'settle','authorization_for_immediate_settle')\n",
    "--and pt.exception_text is null\n",
    "and po.env = 'RU'\n",
    "and po.created_at >= '2019-06-18' and po.created_at <= '2019-07-25'\n",
    "--and sto.id not in (4,9)\n",
    "--and sto.payment_type_id = 3"
   ]
  },
  {
   "cell_type": "code",
   "execution_count": 19,
   "metadata": {
    "ExecuteTime": {
     "end_time": "2019-12-02T08:33:10.159292Z",
     "start_time": "2019-12-02T08:33:07.934742Z"
    }
   },
   "outputs": [
    {
     "data": {
      "text/html": [
       "<div>\n",
       "<style scoped>\n",
       "    .dataframe tbody tr th:only-of-type {\n",
       "        vertical-align: middle;\n",
       "    }\n",
       "\n",
       "    .dataframe tbody tr th {\n",
       "        vertical-align: top;\n",
       "    }\n",
       "\n",
       "    .dataframe thead th {\n",
       "        text-align: right;\n",
       "    }\n",
       "</style>\n",
       "<table border=\"1\" class=\"dataframe\">\n",
       "  <thead>\n",
       "    <tr style=\"text-align: right;\">\n",
       "      <th></th>\n",
       "      <th>external_id</th>\n",
       "      <th>last_4</th>\n",
       "      <th>bin_number</th>\n",
       "      <th>status</th>\n",
       "      <th>tx_type</th>\n",
       "    </tr>\n",
       "  </thead>\n",
       "  <tbody>\n",
       "    <tr>\n",
       "      <th>0</th>\n",
       "      <td>2000951992797</td>\n",
       "      <td>2122</td>\n",
       "      <td>521324</td>\n",
       "      <td>completed</td>\n",
       "      <td>charge</td>\n",
       "    </tr>\n",
       "    <tr>\n",
       "      <th>1</th>\n",
       "      <td>2000948914236</td>\n",
       "      <td>2122</td>\n",
       "      <td>521324</td>\n",
       "      <td>completed</td>\n",
       "      <td>charge</td>\n",
       "    </tr>\n",
       "    <tr>\n",
       "      <th>2</th>\n",
       "      <td>2000955533513</td>\n",
       "      <td>3464</td>\n",
       "      <td>520935</td>\n",
       "      <td>completed</td>\n",
       "      <td>charge</td>\n",
       "    </tr>\n",
       "  </tbody>\n",
       "</table>\n",
       "</div>"
      ],
      "text/plain": [
       "     external_id  last_4 bin_number     status tx_type\n",
       "0  2000951992797    2122     521324  completed  charge\n",
       "1  2000948914236    2122     521324  completed  charge\n",
       "2  2000955533513    3464     520935  completed  charge"
      ]
     },
     "execution_count": 19,
     "metadata": {},
     "output_type": "execute_result"
    }
   ],
   "source": [
    "os.chdir('C:/Users/maxim.buldakov/Desktop')\n",
    "\n",
    "redshift = pd.read_csv('From_DBeaver100.csv')\n",
    "redshift['external_id'] = redshift['external_id'].astype(str)\n",
    "redshift['external_id'] = '2000'+redshift['external_id']\n",
    "redshift['external_id'] = redshift['external_id'].astype('int64')\n",
    "redshift[:3]"
   ]
  },
  {
   "cell_type": "code",
   "execution_count": 20,
   "metadata": {
    "ExecuteTime": {
     "end_time": "2019-12-02T08:33:17.760408Z",
     "start_time": "2019-12-02T08:33:17.305591Z"
    }
   },
   "outputs": [],
   "source": [
    "#choose common trans with rides_visa\n",
    "df_redshift = pd.merge(rides_visa, redshift, left_on = 'order_gk', right_on = 'external_id', how = 'inner')\n",
    "df_redshift = df_redshift[['external_id','last_4','bin_number','tx_type']]"
   ]
  },
  {
   "cell_type": "code",
   "execution_count": 21,
   "metadata": {
    "ExecuteTime": {
     "end_time": "2019-12-02T08:33:18.386558Z",
     "start_time": "2019-12-02T08:33:18.376588Z"
    }
   },
   "outputs": [
    {
     "data": {
      "text/plain": [
       "(50192,)"
      ]
     },
     "execution_count": 21,
     "metadata": {},
     "output_type": "execute_result"
    }
   ],
   "source": [
    "df_redshift['external_id'].unique().shape"
   ]
  },
  {
   "cell_type": "code",
   "execution_count": 22,
   "metadata": {
    "ExecuteTime": {
     "end_time": "2019-12-02T08:33:38.131577Z",
     "start_time": "2019-12-02T08:33:38.102655Z"
    }
   },
   "outputs": [],
   "source": [
    "df_redshift_extra = pd.merge(df_redshift, df_trans, left_on = 'external_id', right_on = 'order_gk', how = 'left')"
   ]
  },
  {
   "cell_type": "code",
   "execution_count": 23,
   "metadata": {
    "ExecuteTime": {
     "end_time": "2019-12-02T08:33:39.324379Z",
     "start_time": "2019-12-02T08:33:39.300409Z"
    }
   },
   "outputs": [],
   "source": [
    "df_redshift_extra = df_redshift_extra[df_redshift_extra['order_gk'].isnull()]\n",
    "df_redshift_extra = df_redshift_extra[['external_id','last_4','bin_number_x','tx_type_x']]"
   ]
  },
  {
   "cell_type": "code",
   "execution_count": 24,
   "metadata": {
    "ExecuteTime": {
     "end_time": "2019-12-02T08:33:39.942244Z",
     "start_time": "2019-12-02T08:33:39.934262Z"
    }
   },
   "outputs": [],
   "source": [
    "df_redshift_extra = df_redshift_extra.rename(columns={'external_id':'order_gk',\n",
    "                          'last_4':'last4',\n",
    "                          'bin_number_x':'bin_number',\n",
    "                          'tx_type_x':'tx_type'})\n",
    "df_redshift_extra['last4'] = df_redshift_extra['last4'].astype('object')"
   ]
  },
  {
   "cell_type": "code",
   "execution_count": 25,
   "metadata": {
    "ExecuteTime": {
     "end_time": "2019-12-02T08:33:40.516721Z",
     "start_time": "2019-12-02T08:33:40.508628Z"
    }
   },
   "outputs": [
    {
     "data": {
      "text/html": [
       "<div>\n",
       "<style scoped>\n",
       "    .dataframe tbody tr th:only-of-type {\n",
       "        vertical-align: middle;\n",
       "    }\n",
       "\n",
       "    .dataframe tbody tr th {\n",
       "        vertical-align: top;\n",
       "    }\n",
       "\n",
       "    .dataframe thead th {\n",
       "        text-align: right;\n",
       "    }\n",
       "</style>\n",
       "<table border=\"1\" class=\"dataframe\">\n",
       "  <thead>\n",
       "    <tr style=\"text-align: right;\">\n",
       "      <th></th>\n",
       "      <th>order_gk</th>\n",
       "      <th>last4</th>\n",
       "      <th>bin_number</th>\n",
       "      <th>tx_type</th>\n",
       "    </tr>\n",
       "  </thead>\n",
       "  <tbody>\n",
       "  </tbody>\n",
       "</table>\n",
       "</div>"
      ],
      "text/plain": [
       "Empty DataFrame\n",
       "Columns: [order_gk, last4, bin_number, tx_type]\n",
       "Index: []"
      ]
     },
     "execution_count": 25,
     "metadata": {},
     "output_type": "execute_result"
    }
   ],
   "source": [
    "df_redshift_extra"
   ]
  },
  {
   "cell_type": "code",
   "execution_count": 26,
   "metadata": {
    "ExecuteTime": {
     "end_time": "2019-12-02T08:33:41.059191Z",
     "start_time": "2019-12-02T08:33:41.052210Z"
    }
   },
   "outputs": [
    {
     "data": {
      "text/plain": [
       "(0, 4)"
      ]
     },
     "execution_count": 26,
     "metadata": {},
     "output_type": "execute_result"
    }
   ],
   "source": [
    "df_redshift_extra.shape"
   ]
  },
  {
   "cell_type": "code",
   "execution_count": 27,
   "metadata": {
    "ExecuteTime": {
     "end_time": "2019-12-02T08:33:42.085053Z",
     "start_time": "2019-12-02T08:33:42.076076Z"
    }
   },
   "outputs": [],
   "source": [
    "df_trans = df_trans.append(df_redshift_extra)"
   ]
  },
  {
   "cell_type": "code",
   "execution_count": 28,
   "metadata": {
    "ExecuteTime": {
     "end_time": "2019-12-02T08:33:46.499887Z",
     "start_time": "2019-12-02T08:33:46.485927Z"
    }
   },
   "outputs": [
    {
     "data": {
      "text/plain": [
       "(50193,)"
      ]
     },
     "execution_count": 28,
     "metadata": {},
     "output_type": "execute_result"
    }
   ],
   "source": [
    "df_trans['order_gk'].unique().shape"
   ]
  },
  {
   "cell_type": "code",
   "execution_count": 29,
   "metadata": {
    "ExecuteTime": {
     "end_time": "2019-12-02T08:33:49.600268Z",
     "start_time": "2019-12-02T08:33:49.591295Z"
    }
   },
   "outputs": [
    {
     "data": {
      "text/plain": [
       "(51147, 4)"
      ]
     },
     "execution_count": 29,
     "metadata": {},
     "output_type": "execute_result"
    }
   ],
   "source": [
    "df_trans.shape"
   ]
  },
  {
   "cell_type": "code",
   "execution_count": 30,
   "metadata": {
    "ExecuteTime": {
     "end_time": "2019-12-02T08:33:50.337361Z",
     "start_time": "2019-12-02T08:33:50.222671Z"
    },
    "scrolled": false
   },
   "outputs": [
    {
     "data": {
      "application/vnd.jupyter.widget-view+json": {
       "model_id": "f3242abab7a84c43b3ce0ad25f740311",
       "version_major": 2,
       "version_minor": 0
      },
      "text/plain": [
       "QgridWidget(grid_options={'fullWidthRows': True, 'syncColumnCellResize': True, 'forceFitColumns': True, 'defau…"
      ]
     },
     "metadata": {},
     "output_type": "display_data"
    }
   ],
   "source": [
    "qgrid.show_grid(df_trans, grid_options={'maxVisibleRows': 7})"
   ]
  },
  {
   "cell_type": "markdown",
   "metadata": {},
   "source": [
    "## Continue"
   ]
  },
  {
   "cell_type": "code",
   "execution_count": 14,
   "metadata": {
    "ExecuteTime": {
     "end_time": "2020-06-01T06:08:08.199330Z",
     "start_time": "2020-06-01T06:08:08.180377Z"
    }
   },
   "outputs": [],
   "source": [
    "df_trans['bin_number'] = list(map(lambda x: int(x), df_trans['bin_number']))"
   ]
  },
  {
   "cell_type": "code",
   "execution_count": 15,
   "metadata": {
    "ExecuteTime": {
     "end_time": "2020-06-01T06:08:10.234609Z",
     "start_time": "2020-06-01T06:08:10.213635Z"
    }
   },
   "outputs": [
    {
     "name": "stdout",
     "output_type": "stream",
     "text": [
      "(13184, 17)\n"
     ]
    }
   ],
   "source": [
    "df = pd.merge(rides_visa, df_trans, left_on = 'order_gk', right_on = 'order_gk', how = 'left')\n",
    "print(df.shape)"
   ]
  },
  {
   "cell_type": "code",
   "execution_count": 16,
   "metadata": {
    "ExecuteTime": {
     "end_time": "2020-06-01T06:08:10.523551Z",
     "start_time": "2020-06-01T06:08:10.493632Z"
    }
   },
   "outputs": [
    {
     "name": "stdout",
     "output_type": "stream",
     "text": [
      "(13123, 17)\n",
      "(12959,)\n"
     ]
    }
   ],
   "source": [
    "df = df.dropna(subset = ['bin_number'])\n",
    "df['bin_number'] = list(map(lambda x: int(x),  df['bin_number']))\n",
    "print(df.shape)\n",
    "print(df['order_gk_str'].unique().shape)"
   ]
  },
  {
   "cell_type": "code",
   "execution_count": 17,
   "metadata": {
    "ExecuteTime": {
     "end_time": "2020-06-01T06:08:11.173668Z",
     "start_time": "2020-06-01T06:08:11.137768Z"
    }
   },
   "outputs": [],
   "source": [
    "tt = df.drop_duplicates() #RAW data"
   ]
  },
  {
   "cell_type": "code",
   "execution_count": 18,
   "metadata": {
    "ExecuteTime": {
     "end_time": "2020-06-01T06:08:25.781617Z",
     "start_time": "2020-06-01T06:08:25.663908Z"
    },
    "scrolled": true
   },
   "outputs": [
    {
     "data": {
      "text/html": [
       "<div>\n",
       "<style scoped>\n",
       "    .dataframe tbody tr th:only-of-type {\n",
       "        vertical-align: middle;\n",
       "    }\n",
       "\n",
       "    .dataframe tbody tr th {\n",
       "        vertical-align: top;\n",
       "    }\n",
       "\n",
       "    .dataframe thead th {\n",
       "        text-align: right;\n",
       "    }\n",
       "</style>\n",
       "<table border=\"1\" class=\"dataframe\">\n",
       "  <thead>\n",
       "    <tr style=\"text-align: right;\">\n",
       "      <th></th>\n",
       "      <th>BIN</th>\n",
       "      <th>CARD_TYPE</th>\n",
       "      <th>start_date</th>\n",
       "      <th>end_date</th>\n",
       "    </tr>\n",
       "  </thead>\n",
       "  <tbody>\n",
       "    <tr>\n",
       "      <th>1058</th>\n",
       "      <td>467564</td>\n",
       "      <td>VISA PLATINUM</td>\n",
       "      <td>2020-04-20</td>\n",
       "      <td>2020-09-30</td>\n",
       "    </tr>\n",
       "    <tr>\n",
       "      <th>1059</th>\n",
       "      <td>468596</td>\n",
       "      <td>VISA INFINITE</td>\n",
       "      <td>2020-04-20</td>\n",
       "      <td>2020-09-30</td>\n",
       "    </tr>\n",
       "    <tr>\n",
       "      <th>1060</th>\n",
       "      <td>469670</td>\n",
       "      <td>VISA PLATINUM</td>\n",
       "      <td>2020-04-20</td>\n",
       "      <td>2020-09-30</td>\n",
       "    </tr>\n",
       "    <tr>\n",
       "      <th>1061</th>\n",
       "      <td>485071</td>\n",
       "      <td>VISA INFINITE</td>\n",
       "      <td>2020-04-20</td>\n",
       "      <td>2020-09-30</td>\n",
       "    </tr>\n",
       "    <tr>\n",
       "      <th>1062</th>\n",
       "      <td>492448</td>\n",
       "      <td>VISA SIGNATURE</td>\n",
       "      <td>2020-04-20</td>\n",
       "      <td>2020-09-30</td>\n",
       "    </tr>\n",
       "  </tbody>\n",
       "</table>\n",
       "</div>"
      ],
      "text/plain": [
       "         BIN       CARD_TYPE start_date   end_date\n",
       "1058  467564   VISA PLATINUM 2020-04-20 2020-09-30\n",
       "1059  468596   VISA INFINITE 2020-04-20 2020-09-30\n",
       "1060  469670   VISA PLATINUM 2020-04-20 2020-09-30\n",
       "1061  485071   VISA INFINITE 2020-04-20 2020-09-30\n",
       "1062  492448  VISA SIGNATURE 2020-04-20 2020-09-30"
      ]
     },
     "execution_count": 18,
     "metadata": {},
     "output_type": "execute_result"
    }
   ],
   "source": [
    "os.chdir('C:/Users/maxim.buldakov/Desktop/Private/VISA')\n",
    "\n",
    "df_bin_conditions = pd.read_excel('0.visa_bin_may_2020.xlsx')\n",
    "df_bin_conditions[-5:]"
   ]
  },
  {
   "cell_type": "code",
   "execution_count": 19,
   "metadata": {
    "ExecuteTime": {
     "end_time": "2020-06-01T06:08:25.969432Z",
     "start_time": "2020-06-01T06:08:25.933512Z"
    }
   },
   "outputs": [
    {
     "name": "stdout",
     "output_type": "stream",
     "text": [
      "(12575, 21)\n"
     ]
    }
   ],
   "source": [
    "df_bin_conditions['start_date'] = pd.to_datetime(df_bin_conditions['start_date'])\n",
    "df_bin_conditions['end_date'] = pd.to_datetime(df_bin_conditions['end_date'])\n",
    "df_fin = pd.merge(df, df_bin_conditions, left_on = 'bin_number', right_on = 'BIN', how ='inner' )\n",
    "print(df_fin.shape)"
   ]
  },
  {
   "cell_type": "code",
   "execution_count": 20,
   "metadata": {
    "ExecuteTime": {
     "end_time": "2020-06-01T06:08:26.381700Z",
     "start_time": "2020-06-01T06:08:26.319898Z"
    }
   },
   "outputs": [],
   "source": [
    "def if_date_comp(st,en, r):\n",
    "    if r <= en.date() and  r >= st.date():\n",
    "        v = 1\n",
    "    else:\n",
    "        v = 0\n",
    "    return v\n",
    "\n",
    "df_fin['is_in_group'] = list(map(lambda st,en,r: if_date_comp(st,en,r), df_fin['start_date'] , df_fin['end_date'] , df_fin['date_key']   ) )"
   ]
  },
  {
   "cell_type": "code",
   "execution_count": 21,
   "metadata": {
    "ExecuteTime": {
     "end_time": "2020-06-01T06:08:26.853641Z",
     "start_time": "2020-06-01T06:08:26.750660Z"
    }
   },
   "outputs": [],
   "source": [
    "df_fin.date_key = pd.to_datetime(df_fin.date_key)\n",
    "df_fin[\"start_date\"] = pd.to_datetime(df_fin.start_date).apply(lambda x: x.date())\n",
    "df_fin[\"end_date\"] = pd.to_datetime(df_fin.end_date).apply(lambda x: x.date())\n",
    "df_fin[\"start_date\"] = pd.to_datetime(df_fin.start_date).dt.date\n",
    "df_fin[\"end_date\"] = pd.to_datetime(df_fin.end_date).dt.date\n",
    "df_fin.date_key = pd.to_datetime(df_fin.date_key).dt.date"
   ]
  },
  {
   "cell_type": "code",
   "execution_count": 22,
   "metadata": {
    "ExecuteTime": {
     "end_time": "2020-06-01T06:08:27.096817Z",
     "start_time": "2020-06-01T06:08:27.070848Z"
    }
   },
   "outputs": [
    {
     "name": "stdout",
     "output_type": "stream",
     "text": [
      "(12575, 22)\n",
      "(12415,)\n"
     ]
    }
   ],
   "source": [
    "df_fin = df_fin[df_fin['is_in_group'] == 1]\n",
    "print(df_fin.shape)\n",
    "print(df_fin['order_gk_str'].unique().shape)"
   ]
  },
  {
   "cell_type": "code",
   "execution_count": 23,
   "metadata": {
    "ExecuteTime": {
     "end_time": "2020-06-01T06:08:27.442507Z",
     "start_time": "2020-06-01T06:08:27.366702Z"
    }
   },
   "outputs": [],
   "source": [
    "z = pd.concat([df_fin[df_fin.financing_type == 'VISA']\n",
    "               , df_fin[df_fin.financing_type != 'VISA']], axis = 0).drop_duplicates() #.to_excel('visa_report_august_to31.xlsx')"
   ]
  },
  {
   "cell_type": "code",
   "execution_count": 24,
   "metadata": {
    "ExecuteTime": {
     "end_time": "2020-06-01T06:08:27.817367Z",
     "start_time": "2020-06-01T06:08:27.785412Z"
    }
   },
   "outputs": [
    {
     "data": {
      "text/plain": [
       "(12575, 22)"
      ]
     },
     "execution_count": 24,
     "metadata": {},
     "output_type": "execute_result"
    }
   ],
   "source": [
    "z = pd.concat([df_fin[df_fin.financing_type == 'VISA']\n",
    "               , df_fin[df_fin.financing_type != 'VISA']], axis = 0)\n",
    "z.shape"
   ]
  },
  {
   "cell_type": "code",
   "execution_count": 25,
   "metadata": {
    "ExecuteTime": {
     "end_time": "2020-06-01T06:08:28.390468Z",
     "start_time": "2020-06-01T06:08:28.310646Z"
    }
   },
   "outputs": [
    {
     "data": {
      "text/plain": [
       "(12573, 22)"
      ]
     },
     "execution_count": 25,
     "metadata": {},
     "output_type": "execute_result"
    }
   ],
   "source": [
    "z = pd.concat([df_fin[df_fin.financing_type == 'VISA']\n",
    "               , df_fin[df_fin.financing_type != 'VISA']], axis = 0).drop_duplicates()\n",
    "z.shape"
   ]
  },
  {
   "cell_type": "code",
   "execution_count": 26,
   "metadata": {
    "ExecuteTime": {
     "end_time": "2020-06-01T06:08:29.513649Z",
     "start_time": "2020-06-01T06:08:29.505671Z"
    }
   },
   "outputs": [],
   "source": [
    "x = z.copy()"
   ]
  },
  {
   "cell_type": "markdown",
   "metadata": {},
   "source": [
    "## Google sheets"
   ]
  },
  {
   "cell_type": "code",
   "execution_count": 27,
   "metadata": {
    "ExecuteTime": {
     "end_time": "2020-06-01T06:08:32.264770Z",
     "start_time": "2020-06-01T06:08:31.921215Z"
    }
   },
   "outputs": [],
   "source": [
    "## В ЭТОМ БЛОКЕ ПОДКЛЮЧАЕМ НЕОБХОДИМЫЕ БИБЛИОТЕКИ\n",
    "\n",
    "# Стандартные библиотеки для работы с DataFrame - так большие данные хранит Python\n",
    "import pandas as pd\n",
    "\n",
    "# Библиотеки для работы с временем\n",
    "import datetime\n",
    "import time\n",
    "\n",
    "#Библиотеки для подключения к GoogleSheets\n",
    "import gspread \n",
    "from oauth2client.service_account import ServiceAccountCredentials\n",
    "import gspread_dataframe as gd"
   ]
  },
  {
   "cell_type": "code",
   "execution_count": 28,
   "metadata": {
    "ExecuteTime": {
     "end_time": "2020-06-01T06:08:33.982298Z",
     "start_time": "2020-06-01T06:08:33.687298Z"
    }
   },
   "outputs": [
    {
     "data": {
      "text/plain": [
       "True"
      ]
     },
     "execution_count": 28,
     "metadata": {},
     "output_type": "execute_result"
    }
   ],
   "source": [
    "import webbrowser\n",
    "\n",
    "site1 =  \"https://docs.google.com/spreadsheets/d/1zk-w4JyhPjh3pMWnh690lONzsBPFFCaVgmztrByj-Gw/edit#gid=0\"\n",
    "site2 =  \"https://app.asana.com/0/1110565772424875/1116638790834424\"\n",
    "webbrowser.open(site1, new = 2)\n",
    "webbrowser.open(site2, new = 2)"
   ]
  },
  {
   "cell_type": "code",
   "execution_count": 29,
   "metadata": {
    "ExecuteTime": {
     "end_time": "2020-06-01T06:08:45.864936Z",
     "start_time": "2020-06-01T06:08:45.470988Z"
    }
   },
   "outputs": [],
   "source": [
    "## В ЭТОМ БЛОКЕ ПОДКЛЮЧАЕМСЯ К GOOGLE SHEETS ТАБЛИЦЕ\n",
    "\n",
    "# Стандартные строчки\n",
    "scope = ['https://spreadsheets.google.com/feeds']\n",
    "\n",
    "# Название файла с данными от клиента\n",
    "creds = ServiceAccountCredentials.from_json_keyfile_name('C:/Users/maxim.buldakov/Desktop/Private/gapi-prj1.json', scope)\n",
    "client = gspread.authorize(creds)\n",
    "\n",
    "# Ссылка на таблицу, куда подключаемся \n",
    "table = client.open_by_url(site1)"
   ]
  },
  {
   "cell_type": "code",
   "execution_count": 30,
   "metadata": {
    "ExecuteTime": {
     "end_time": "2020-06-01T06:08:48.863954Z",
     "start_time": "2020-06-01T06:08:46.913134Z"
    }
   },
   "outputs": [
    {
     "data": {
      "text/plain": [
       "{'spreadsheetId': '1zk-w4JyhPjh3pMWnh690lONzsBPFFCaVgmztrByj-Gw',\n",
       " 'clearedRange': 'report!A1:T62316'}"
      ]
     },
     "execution_count": 30,
     "metadata": {},
     "output_type": "execute_result"
    }
   ],
   "source": [
    "## В ЭТОМ БЛОКЕ ПОДКЛЮЧАЕМСЯ К ЛИСТУ В ВЫБРАННОЙ ТАБЛИЦЕ\n",
    "\n",
    "# Подключаемся к конкретному листу в таблице\n",
    "ws = table.worksheet('report')\n",
    "# Очищаем этот лист\n",
    "ws.clear()"
   ]
  },
  {
   "cell_type": "code",
   "execution_count": 31,
   "metadata": {
    "ExecuteTime": {
     "end_time": "2020-06-01T06:08:58.534620Z",
     "start_time": "2020-06-01T06:08:49.012523Z"
    }
   },
   "outputs": [],
   "source": [
    "#add part\n",
    "x1 = x.copy()\n",
    "x1 = x1.drop(['order_gk', 'riding_user_gk', 'date_key_time', 'start_date', 'end_date', 'is_in_group'], axis = 1)\n",
    "x1['paid_with_prepaid'] = x1['paid_with_prepaid'].astype('float64')\n",
    "x1['paid_with_prepaid'] = x1['paid_with_prepaid'].fillna(0)\n",
    "x1['paid_with_prepaid'] = x1['paid_with_prepaid'].apply(lambda row: 1 if row > 0 else 0)\n",
    "x1 = x1.sort_values(by = ['order_gk_str', 'tx_type'])\n",
    "gd.set_with_dataframe(ws, x1, row=1, col=1)"
   ]
  },
  {
   "cell_type": "markdown",
   "metadata": {},
   "source": [
    "### Card type by hand"
   ]
  },
  {
   "cell_type": "code",
   "execution_count": 41,
   "metadata": {
    "ExecuteTime": {
     "end_time": "2020-06-01T06:20:12.894831Z",
     "start_time": "2020-06-01T06:15:36.069996Z"
    }
   },
   "outputs": [
    {
     "name": "stdout",
     "output_type": "stream",
     "text": [
      "(4129443, 22)\n"
     ]
    }
   ],
   "source": [
    "text = f'''\n",
    "select lpm.*, ms.credit_card_id\n",
    "\n",
    "from bp_ba.latest_payment_methods lpm\n",
    "join bp_ba.money_spent_from_card ms on lpm.fingerprint = ms.fingerprint\n",
    "'''\n",
    "\n",
    "cards_info = query_presto(text)\n",
    "print(cards_info.shape)"
   ]
  },
  {
   "cell_type": "code",
   "execution_count": 98,
   "metadata": {
    "ExecuteTime": {
     "end_time": "2020-05-26T11:40:22.351200Z",
     "start_time": "2020-05-26T11:40:04.138713Z"
    },
    "scrolled": true
   },
   "outputs": [
    {
     "name": "stdout",
     "output_type": "stream",
     "text": [
      "(4129443, 22)\n",
      "(4129443, 22)\n",
      "(4129396, 22)\n"
     ]
    }
   ],
   "source": [
    "cards = cards_info.copy()\n",
    "print(cards.shape)\n",
    "cards.dropna(subset=['user_gk', 'bin_number', 'last_4_digits'], inplace=True)\n",
    "print(cards.shape)\n",
    "cards = cards[cards['bin_number'] != 'nan']\n",
    "print(cards.shape)"
   ]
  },
  {
   "cell_type": "code",
   "execution_count": 99,
   "metadata": {
    "ExecuteTime": {
     "end_time": "2020-05-26T11:41:09.262935Z",
     "start_time": "2020-05-26T11:40:58.249900Z"
    }
   },
   "outputs": [],
   "source": [
    "cards['user_gk'] = cards['user_gk'].astype('int64')\n",
    "cards['bin_number'] = cards['bin_number'].astype('int64')"
   ]
  },
  {
   "cell_type": "code",
   "execution_count": 100,
   "metadata": {
    "ExecuteTime": {
     "end_time": "2020-05-26T11:41:57.365721Z",
     "start_time": "2020-05-26T11:41:44.451551Z"
    }
   },
   "outputs": [],
   "source": [
    "tt_add = pd.merge(tt, cards\n",
    "                  ,how = 'left'                 \n",
    "                  ,left_on=['riding_user_gk', 'bin_number', 'last4']\n",
    "                 ,right_on=['user_gk', 'bin_number', 'last_4_digits'])"
   ]
  },
  {
   "cell_type": "code",
   "execution_count": 109,
   "metadata": {
    "ExecuteTime": {
     "end_time": "2020-05-26T11:52:29.393342Z",
     "start_time": "2020-05-26T11:50:41.995609Z"
    }
   },
   "outputs": [
    {
     "data": {
      "text/plain": [
       "<subprocess.Popen at 0x22254d3d898>"
      ]
     },
     "execution_count": 109,
     "metadata": {},
     "output_type": "execute_result"
    }
   ],
   "source": [
    "var = tt_add\n",
    "text = f'''tt_add'''\n",
    "\n",
    "os.chdir('C:/Users/maxim.buldakov/Desktop/Temp_python')\n",
    "var.to_excel(text + '.xlsx', index = True)\n",
    "subprocess.Popen('C:/Users/maxim.buldakov/Desktop/Temp_python/' + text + '.xlsx', shell=True)"
   ]
  },
  {
   "cell_type": "markdown",
   "metadata": {},
   "source": [
    "### End of part card type by hand"
   ]
  },
  {
   "cell_type": "code",
   "execution_count": 32,
   "metadata": {
    "ExecuteTime": {
     "end_time": "2020-06-01T06:09:37.249277Z",
     "start_time": "2020-06-01T06:09:37.243331Z"
    }
   },
   "outputs": [],
   "source": [
    "dates = {'From': [start_date], 'To': [end_date]}\n",
    "dates = pd.DataFrame(data=dates)"
   ]
  },
  {
   "cell_type": "code",
   "execution_count": 33,
   "metadata": {
    "ExecuteTime": {
     "end_time": "2020-06-01T06:09:38.288706Z",
     "start_time": "2020-06-01T06:09:37.743183Z"
    }
   },
   "outputs": [],
   "source": [
    "summary = table.worksheet('summary')\n",
    "#summary.clear()"
   ]
  },
  {
   "cell_type": "code",
   "execution_count": 34,
   "metadata": {
    "ExecuteTime": {
     "end_time": "2020-06-01T06:09:38.845700Z",
     "start_time": "2020-06-01T06:09:38.421356Z"
    }
   },
   "outputs": [],
   "source": [
    "gd.set_with_dataframe(summary, dates ,row=1, col=1)"
   ]
  },
  {
   "cell_type": "code",
   "execution_count": 35,
   "metadata": {
    "ExecuteTime": {
     "end_time": "2020-06-01T06:09:38.987364Z",
     "start_time": "2020-06-01T06:09:38.980346Z"
    }
   },
   "outputs": [],
   "source": [
    "sber = x[(x['financing_type'] =='Sberbank')&((x.BIN ==427417)| (x.BIN==483983)) ]"
   ]
  },
  {
   "cell_type": "code",
   "execution_count": 36,
   "metadata": {
    "ExecuteTime": {
     "end_time": "2020-06-01T06:09:40.158724Z",
     "start_time": "2020-06-01T06:09:39.182300Z"
    }
   },
   "outputs": [
    {
     "data": {
      "text/plain": [
       "{'spreadsheetId': '1zk-w4JyhPjh3pMWnh690lONzsBPFFCaVgmztrByj-Gw',\n",
       " 'clearedRange': \"'sberbank raw'!A1:Z7438\"}"
      ]
     },
     "execution_count": 36,
     "metadata": {},
     "output_type": "execute_result"
    }
   ],
   "source": [
    "sberbank  = table.worksheet('sberbank raw')\n",
    "sberbank.clear()"
   ]
  },
  {
   "cell_type": "code",
   "execution_count": 37,
   "metadata": {
    "ExecuteTime": {
     "end_time": "2020-06-01T06:09:40.897674Z",
     "start_time": "2020-06-01T06:09:40.341196Z"
    }
   },
   "outputs": [],
   "source": [
    "gd.set_with_dataframe(sberbank, sber ,row=1, col=1)"
   ]
  },
  {
   "cell_type": "code",
   "execution_count": 38,
   "metadata": {
    "ExecuteTime": {
     "end_time": "2020-06-01T06:09:43.238418Z",
     "start_time": "2020-06-01T06:09:41.049304Z"
    }
   },
   "outputs": [
    {
     "data": {
      "text/plain": [
       "{'spreadsheetId': '1zk-w4JyhPjh3pMWnh690lONzsBPFFCaVgmztrByj-Gw',\n",
       " 'clearedRange': \"'raw data'!A1:Z62252\"}"
      ]
     },
     "execution_count": 38,
     "metadata": {},
     "output_type": "execute_result"
    }
   ],
   "source": [
    "# Подключаемся к конкретному листу в таблице\n",
    "ws1 = table.worksheet('raw data')\n",
    "# Очищаем этот лист\n",
    "ws1.clear()"
   ]
  },
  {
   "cell_type": "code",
   "execution_count": 39,
   "metadata": {
    "ExecuteTime": {
     "end_time": "2020-06-01T06:09:53.580848Z",
     "start_time": "2020-06-01T06:09:43.414946Z"
    }
   },
   "outputs": [],
   "source": [
    "gd.set_with_dataframe(ws1, tt, row=1, col=1)"
   ]
  },
  {
   "cell_type": "code",
   "execution_count": 40,
   "metadata": {
    "ExecuteTime": {
     "end_time": "2020-06-01T06:09:59.021803Z",
     "start_time": "2020-06-01T06:09:59.018846Z"
    }
   },
   "outputs": [],
   "source": [
    "#end of script"
   ]
  },
  {
   "cell_type": "code",
   "execution_count": null,
   "metadata": {},
   "outputs": [],
   "source": []
  }
 ],
 "metadata": {
  "kernelspec": {
   "display_name": "Python 3",
   "language": "python",
   "name": "python3"
  },
  "language_info": {
   "codemirror_mode": {
    "name": "ipython",
    "version": 3
   },
   "file_extension": ".py",
   "mimetype": "text/x-python",
   "name": "python",
   "nbconvert_exporter": "python",
   "pygments_lexer": "ipython3",
   "version": "3.7.1"
  },
  "toc": {
   "base_numbering": 1,
   "nav_menu": {},
   "number_sections": false,
   "sideBar": true,
   "skip_h1_title": false,
   "title_cell": "Table of Contents",
   "title_sidebar": "Contents",
   "toc_cell": false,
   "toc_position": {
    "height": "calc(100% - 180px)",
    "left": "10px",
    "top": "150px",
    "width": "165px"
   },
   "toc_section_display": true,
   "toc_window_display": true
  },
  "varInspector": {
   "cols": {
    "lenName": 16,
    "lenType": 16,
    "lenVar": 40
   },
   "kernels_config": {
    "python": {
     "delete_cmd_postfix": "",
     "delete_cmd_prefix": "del ",
     "library": "var_list.py",
     "varRefreshCmd": "print(var_dic_list())"
    },
    "r": {
     "delete_cmd_postfix": ") ",
     "delete_cmd_prefix": "rm(",
     "library": "var_list.r",
     "varRefreshCmd": "cat(var_dic_list()) "
    }
   },
   "position": {
    "height": "757px",
    "left": "1526px",
    "right": "20px",
    "top": "116px",
    "width": "372px"
   },
   "types_to_exclude": [
    "module",
    "function",
    "builtin_function_or_method",
    "instance",
    "_Feature"
   ],
   "window_display": true
  }
 },
 "nbformat": 4,
 "nbformat_minor": 2
}
