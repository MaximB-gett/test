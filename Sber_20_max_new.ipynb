{
 "cells": [
  {
   "cell_type": "code",
   "execution_count": 1,
   "metadata": {
    "ExecuteTime": {
     "end_time": "2020-06-01T06:12:56.474245Z",
     "start_time": "2020-06-01T06:12:55.792070Z"
    }
   },
   "outputs": [],
   "source": [
    "import requests\n",
    "import urllib3\n",
    "import pandas as pd\n",
    "from pyhive import presto\n",
    "import os\n",
    "import sys\n",
    "import pymysql\n",
    "from sqlalchemy import create_engine\n",
    "from pyhive import presto\n",
    "import urllib3\n",
    "import requests\n",
    "import json\n",
    "from shapely.geometry import shape, Point\n",
    "import warnings; warnings.filterwarnings('ignore')\n",
    "import qgrid\n",
    "import subprocess"
   ]
  },
  {
   "cell_type": "code",
   "execution_count": 2,
   "metadata": {
    "ExecuteTime": {
     "end_time": "2020-06-01T06:12:56.499153Z",
     "start_time": "2020-06-01T06:12:56.488183Z"
    }
   },
   "outputs": [],
   "source": [
    "#get credentials (login and password)\n",
    "os.chdir('C:/Users/maxim.buldakov/Desktop/Private')\n",
    "ppp = pd.read_csv('ppp.txt')\n",
    "\n",
    "def query_presto(q):\n",
    "    presto_session = requests.Session()\n",
    "    presto_session.verify = 'C:/Users/maxim.buldakov/AppData/Local/Continuum/anaconda3/presto.crt'\n",
    "    auth={'auth':requests.auth.HTTPBasicAuth(ppp.iloc[0]['---'], ppp.iloc[1]['---'])}\n",
    "    conn = presto.connect(host=\"presto-sqlpy.gett.io\", port=8443, protocol='https',\n",
    "                          requests_kwargs=auth, requests_session=presto_session)\n",
    "    data = pd.read_sql(q, conn)\n",
    "    conn.close()\n",
    "    return data"
   ]
  },
  {
   "cell_type": "markdown",
   "metadata": {},
   "source": [
    "## Queries and processing"
   ]
  },
  {
   "cell_type": "code",
   "execution_count": 3,
   "metadata": {
    "ExecuteTime": {
     "end_time": "2020-06-01T06:12:57.098278Z",
     "start_time": "2020-06-01T06:12:57.092567Z"
    }
   },
   "outputs": [],
   "source": [
    "start_date = '2020-05-01'\n",
    "end_date = '2020-05-31'"
   ]
  },
  {
   "cell_type": "code",
   "execution_count": 4,
   "metadata": {
    "ExecuteTime": {
     "end_time": "2020-06-01T06:13:04.962488Z",
     "start_time": "2020-06-01T06:13:01.744928Z"
    }
   },
   "outputs": [],
   "source": [
    "query_rides_visa = f'''\n",
    "select\n",
    "fo.order_gk,\n",
    "fo.sourceid,\n",
    "substring(cast(fo.order_gk as varchar(20)),5,length(cast(fo.order_gk as varchar(20)))) as order_gk_str,\n",
    "fo.riding_user_gk,\n",
    "fo.order_datetime,\n",
    "'VISA_Sberbank_20' as financing_type,\n",
    "fo.date_key as date_key, \n",
    "case\n",
    "when (lower(dct.class_type_desc_eng) like '%vip%' or lower(dct.class_type_desc_eng) like '%luxe%') then 'VIP'\n",
    "when lower(dct.class_type_desc_eng) like '%comfort%' then 'Comfort'\n",
    "when lower(dct.class_type_desc_eng) like '%economy%' then 'Economy'\n",
    "else 'Business' end as class_group,\n",
    "dct.class_type_desc_eng as class,\n",
    "fo.customer_total_cost_inc_vat/0.8 as tariff,\n",
    "fo.customer_total_cost_inc_vat/0.8*0.18 as visa_financing,\n",
    "fo.customer_total_cost_inc_vat/0.8*0.02 as gett_financing,\n",
    "fo.customer_total_cost_inc_vat as client_price,\n",
    "fo.paid_with_prepaid\n",
    "\n",
    "from emilia_gettdwh.dwh_fact_orders_v fo\n",
    "join emilia_gettdwh.dwh_dim_class_types_v dct on dct.class_type_key = fo.class_type_key\n",
    "\n",
    "where\n",
    "fo.order_status_key in (7)\n",
    "and fo.date_key between DATE '{start_date}' and DATE '{end_date}'\n",
    "and fo.country_key = 2\n",
    "and fo.payment_type_key = 3\n",
    "and lower(dct.class_type_desc) like '%visa%'\n",
    "and lower(dct.class_type_desc) like '%sber20%'\n",
    "and lower(dct.class_type_desc) not like '%alfa%'\n",
    "and lower(dct.class_type_desc) not like '%open20%'\n",
    "'''\n",
    "\n",
    "rides_visa = query_presto(query_rides_visa)"
   ]
  },
  {
   "cell_type": "code",
   "execution_count": 5,
   "metadata": {
    "ExecuteTime": {
     "end_time": "2020-06-01T06:13:05.003405Z",
     "start_time": "2020-06-01T06:13:04.999415Z"
    }
   },
   "outputs": [
    {
     "name": "stdout",
     "output_type": "stream",
     "text": [
      "(1364, 14)\n",
      "(1364,)\n"
     ]
    }
   ],
   "source": [
    "print(rides_visa.shape)\n",
    "print(rides_visa['order_gk_str'].unique().shape)"
   ]
  },
  {
   "cell_type": "code",
   "execution_count": 6,
   "metadata": {
    "ExecuteTime": {
     "end_time": "2020-06-01T06:13:05.049279Z",
     "start_time": "2020-06-01T06:13:05.037311Z"
    }
   },
   "outputs": [
    {
     "name": "stdout",
     "output_type": "stream",
     "text": [
      "<class 'pandas.core.frame.DataFrame'>\n",
      "RangeIndex: 1364 entries, 0 to 1363\n",
      "Data columns (total 2 columns):\n",
      "client_price    1362 non-null object\n",
      "order_gk        1364 non-null int64\n",
      "dtypes: int64(1), object(1)\n",
      "memory usage: 21.4+ KB\n",
      "None\n",
      "----------\n",
      "rows with zero tariff: 0\n"
     ]
    }
   ],
   "source": [
    "print(rides_visa[['client_price', 'order_gk']].info())\n",
    "print('----------')\n",
    "print('rows with zero tariff:', rides_visa['tariff'][rides_visa['tariff'].astype('float64') == 0].count())"
   ]
  },
  {
   "cell_type": "markdown",
   "metadata": {},
   "source": [
    "## If many NaN figures do next"
   ]
  },
  {
   "cell_type": "code",
   "execution_count": 49,
   "metadata": {
    "ExecuteTime": {
     "end_time": "2019-10-22T15:55:53.784828Z",
     "start_time": "2019-10-22T15:50:12.491520Z"
    }
   },
   "outputs": [
    {
     "name": "stdout",
     "output_type": "stream",
     "text": [
      "summ.shape: (2731722, 2)\n"
     ]
    }
   ],
   "source": [
    "query_add = f'''\n",
    "select o.id\n",
    ",o.cost_total_for_company_inc_vat\n",
    "\n",
    "from \"gt-ru\".gettaxi_ru_production.orders o\n",
    "\n",
    "where o.status_id = 7\n",
    "and o.created_at between (date '{start_date}' - interval '1' day) and (date '{end_date}' + interval '1' day)\n",
    "'''\n",
    "\n",
    "summ = query_presto(query_add)\n",
    "print('summ.shape:', summ.shape)"
   ]
  },
  {
   "cell_type": "code",
   "execution_count": 50,
   "metadata": {
    "ExecuteTime": {
     "end_time": "2019-10-22T15:57:27.059237Z",
     "start_time": "2019-10-22T15:57:25.927970Z"
    }
   },
   "outputs": [],
   "source": [
    "q = pd.merge(rides_visa, summ, left_on = 'sourceid', right_on = 'id', how ='left')\n",
    "q = q.drop(columns = ['sourceid', 'id'])\n",
    "change = ['tariff','visa_financing','gett_financing','client_price','cost_total_for_company_inc_vat']\n",
    "\n",
    "for i in range(0, len(change)):\n",
    "    q[change] = q[change].astype('float64')\n",
    "    \n",
    "#calculation\n",
    "q['tariff2'] = q.apply(lambda x: x['cost_total_for_company_inc_vat']/0.8, axis = 1)\n",
    "q['visa_financing2'] = q.apply(lambda x: x['cost_total_for_company_inc_vat']/0.8*0.18, axis = 1)\n",
    "q['gett_financing2'] = q.apply(lambda x: x['cost_total_for_company_inc_vat']/0.8*0.02, axis = 1)\n",
    "\n",
    "#change if NaN figures in main base\n",
    "q['tariff'] = q.apply(lambda x: x['tariff2'] if (x['client_price'] == 0 or pd.isnull(x['client_price']))\n",
    "                      else x['tariff'], axis = 1)\n",
    "q['visa_financing'] = q.apply(lambda x: x['visa_financing2'] if (x['client_price'] == 0 or pd.isnull(x['client_price']))\n",
    "                      else x['visa_financing'], axis = 1)\n",
    "q['gett_financing'] = q.apply(lambda x: x['gett_financing2'] if (x['client_price'] == 0 or pd.isnull(x['client_price']))\n",
    "                      else x['gett_financing'], axis = 1)\n",
    "q['client_price'] = q.apply(lambda x: x['cost_total_for_company_inc_vat'] if (x['client_price'] == 0 or pd.isnull(x['client_price']))\n",
    "                      else x['client_price'], axis = 1)\n",
    "q = q.drop(columns = ['tariff2', 'visa_financing2', 'gett_financing2', 'cost_total_for_company_inc_vat'])\n",
    "rides_visa = q.copy()"
   ]
  },
  {
   "cell_type": "code",
   "execution_count": 51,
   "metadata": {
    "ExecuteTime": {
     "end_time": "2019-10-22T15:57:27.753527Z",
     "start_time": "2019-10-22T15:57:27.743554Z"
    }
   },
   "outputs": [
    {
     "name": "stdout",
     "output_type": "stream",
     "text": [
      "<class 'pandas.core.frame.DataFrame'>\n",
      "Int64Index: 2291 entries, 0 to 2290\n",
      "Data columns (total 2 columns):\n",
      "client_price    2291 non-null float64\n",
      "order_gk        2291 non-null int64\n",
      "dtypes: float64(1), int64(1)\n",
      "memory usage: 53.7 KB\n"
     ]
    }
   ],
   "source": [
    "rides_visa[['client_price', 'order_gk']].info()"
   ]
  },
  {
   "cell_type": "markdown",
   "metadata": {},
   "source": [
    "## Continue"
   ]
  },
  {
   "cell_type": "code",
   "execution_count": 7,
   "metadata": {
    "ExecuteTime": {
     "end_time": "2020-06-01T06:13:17.272576Z",
     "start_time": "2020-06-01T06:13:17.265831Z"
    }
   },
   "outputs": [
    {
     "name": "stdout",
     "output_type": "stream",
     "text": [
      "column sourceid deleted (no NaN figures)\n"
     ]
    }
   ],
   "source": [
    "if 'sourceid' in rides_visa.columns:\n",
    "    rides_visa.drop(columns = 'sourceid', inplace = True)\n",
    "    print('column sourceid deleted (no NaN figures)')\n",
    "else:\n",
    "    print('column sourceid not found (NaN figures part ran)')"
   ]
  },
  {
   "cell_type": "code",
   "execution_count": 8,
   "metadata": {
    "ExecuteTime": {
     "end_time": "2020-06-01T06:13:17.570738Z",
     "start_time": "2020-06-01T06:13:17.559348Z"
    }
   },
   "outputs": [],
   "source": [
    "rides_visa['date_key_time'] = pd.to_datetime(rides_visa['date_key'])\n",
    "rides_visa['date_key'] = rides_visa['date_key_time'].dt.date\n",
    "uninque_orders = tuple(list(rides_visa['order_gk']))"
   ]
  },
  {
   "cell_type": "code",
   "execution_count": 9,
   "metadata": {
    "ExecuteTime": {
     "end_time": "2020-06-01T06:13:46.768867Z",
     "start_time": "2020-06-01T06:13:17.873993Z"
    }
   },
   "outputs": [
    {
     "name": "stdout",
     "output_type": "stream",
     "text": [
      "(1364, 2)\n"
     ]
    }
   ],
   "source": [
    "query_ftrs = f'''\n",
    "with all_rides as\n",
    "(select\n",
    "fo.order_gk,\n",
    "du.registration_date_key,\n",
    "fo.date_key,\n",
    "fo.ride_start_datetime as visa_ride_start_datetime,\n",
    "fr.ride_start_datetime as previous_rides_start_datetime,\n",
    "row_number() over (partition by fo.order_gk order by fo.order_gk, fr.ride_start_datetime ) is_ftr\n",
    "\n",
    "from emilia_gettdwh.dwh_fact_orders_v fo\n",
    "join emilia_gettdwh.dwh_fact_rides_v fr on fr.riding_user_gk = fo.riding_user_gk and fr.ride_start_datetime <= fo.ride_start_datetime\n",
    "join emilia_gettdwh.dwh_dim_users_v du on du.user_gk = fo.riding_user_gk\n",
    "join emilia_gettdwh.dwh_dim_class_types_v dct on dct.class_type_key = fr.class_type_key\n",
    "\n",
    "where\n",
    "fo.order_gk in {uninque_orders})\n",
    "\n",
    "select\n",
    "ar.order_gk,\n",
    "case when ar.is_ftr = 1 and DATE_DIFF('day', ar.registration_date_key, ar.date_key) between 0 and 90 then 1 else 0 end as is_ftr\n",
    "from all_rides ar\n",
    "where ar.visa_ride_start_datetime = ar.previous_rides_start_datetime\n",
    "'''\n",
    "\n",
    "ftrs_pd = query_presto(query_ftrs)\n",
    "print(ftrs_pd.shape)"
   ]
  },
  {
   "cell_type": "code",
   "execution_count": 10,
   "metadata": {
    "ExecuteTime": {
     "end_time": "2020-06-01T06:13:46.821762Z",
     "start_time": "2020-06-01T06:13:46.813749Z"
    }
   },
   "outputs": [
    {
     "name": "stdout",
     "output_type": "stream",
     "text": [
      "(1364, 15)\n"
     ]
    }
   ],
   "source": [
    "rides_visa = pd.merge(rides_visa, ftrs_pd, left_on = 'order_gk', right_on = 'order_gk', how ='left')\n",
    "print(rides_visa.shape)"
   ]
  },
  {
   "cell_type": "code",
   "execution_count": 11,
   "metadata": {
    "ExecuteTime": {
     "end_time": "2020-06-01T06:13:55.073125Z",
     "start_time": "2020-06-01T06:13:46.863651Z"
    }
   },
   "outputs": [
    {
     "name": "stdout",
     "output_type": "stream",
     "text": [
      "(1373, 4)\n",
      "(1353,)\n"
     ]
    }
   ],
   "source": [
    "query_tranc = f'''\n",
    "select\n",
    "fct.order_gk\n",
    ",dcc.last4\n",
    ",dcc.bin_number\n",
    ",tx_type\n",
    "\n",
    "from dwh.dim_credit_cards_v dcc\n",
    "join dwh.fact_ccs_transactions_v fct on fct.credit_card_gk = dcc.credit_card_gk\n",
    "\n",
    "where fct.order_gk in {uninque_orders}\n",
    "and fct.status = 'completed' \n",
    "and tx_type in ('charge', 'prepaid', 'settle')\n",
    "and fct.exception_text is null\n",
    "'''\n",
    "\n",
    "df_trans = query_presto(query_tranc)\n",
    "print(df_trans.shape)\n",
    "print(df_trans['order_gk'].unique().shape)"
   ]
  },
  {
   "cell_type": "code",
   "execution_count": 12,
   "metadata": {
    "ExecuteTime": {
     "end_time": "2020-06-01T06:13:55.138945Z",
     "start_time": "2020-06-01T06:13:55.132961Z"
    }
   },
   "outputs": [],
   "source": [
    "df_trans['bin_number'] = list(map(lambda x: int(x), df_trans['bin_number']))"
   ]
  },
  {
   "cell_type": "code",
   "execution_count": 13,
   "metadata": {
    "ExecuteTime": {
     "end_time": "2020-06-01T06:13:55.199822Z",
     "start_time": "2020-06-01T06:13:55.189809Z"
    }
   },
   "outputs": [
    {
     "name": "stdout",
     "output_type": "stream",
     "text": [
      "(1384, 18)\n"
     ]
    }
   ],
   "source": [
    "df = pd.merge(rides_visa, df_trans, left_on = 'order_gk', right_on = 'order_gk', how = 'left')\n",
    "print(df.shape)"
   ]
  },
  {
   "cell_type": "code",
   "execution_count": 14,
   "metadata": {
    "ExecuteTime": {
     "end_time": "2020-06-01T06:13:55.287548Z",
     "start_time": "2020-06-01T06:13:55.275582Z"
    }
   },
   "outputs": [
    {
     "name": "stdout",
     "output_type": "stream",
     "text": [
      "(1373, 18)\n",
      "(1353,)\n"
     ]
    }
   ],
   "source": [
    "df = df.dropna(subset = ['bin_number'])\n",
    "df['bin_number'] = list(map(lambda x: int(x),  df['bin_number']))\n",
    "print(df.shape)\n",
    "print(df['order_gk_str'].unique().shape)"
   ]
  },
  {
   "cell_type": "code",
   "execution_count": 15,
   "metadata": {
    "ExecuteTime": {
     "end_time": "2020-06-01T06:13:55.369330Z",
     "start_time": "2020-06-01T06:13:55.364346Z"
    }
   },
   "outputs": [],
   "source": [
    "tt = df.copy()"
   ]
  },
  {
   "cell_type": "code",
   "execution_count": 16,
   "metadata": {
    "ExecuteTime": {
     "end_time": "2020-06-01T06:13:55.530990Z",
     "start_time": "2020-06-01T06:13:55.459148Z"
    }
   },
   "outputs": [
    {
     "data": {
      "text/html": [
       "<div>\n",
       "<style scoped>\n",
       "    .dataframe tbody tr th:only-of-type {\n",
       "        vertical-align: middle;\n",
       "    }\n",
       "\n",
       "    .dataframe tbody tr th {\n",
       "        vertical-align: top;\n",
       "    }\n",
       "\n",
       "    .dataframe thead th {\n",
       "        text-align: right;\n",
       "    }\n",
       "</style>\n",
       "<table border=\"1\" class=\"dataframe\">\n",
       "  <thead>\n",
       "    <tr style=\"text-align: right;\">\n",
       "      <th></th>\n",
       "      <th>BIN</th>\n",
       "      <th>CARD_TYPE</th>\n",
       "      <th>start_date</th>\n",
       "      <th>end_date</th>\n",
       "    </tr>\n",
       "  </thead>\n",
       "  <tbody>\n",
       "    <tr>\n",
       "      <th>0</th>\n",
       "      <td>427400</td>\n",
       "      <td>VISA BUSINESS</td>\n",
       "      <td>2018-01-10</td>\n",
       "      <td>2020-12-31</td>\n",
       "    </tr>\n",
       "    <tr>\n",
       "      <th>1</th>\n",
       "      <td>427402</td>\n",
       "      <td>VISA BUSINESS</td>\n",
       "      <td>2018-01-10</td>\n",
       "      <td>2020-12-31</td>\n",
       "    </tr>\n",
       "    <tr>\n",
       "      <th>2</th>\n",
       "      <td>427403</td>\n",
       "      <td>VISA BUSINESS</td>\n",
       "      <td>2018-01-10</td>\n",
       "      <td>2020-12-31</td>\n",
       "    </tr>\n",
       "    <tr>\n",
       "      <th>3</th>\n",
       "      <td>427404</td>\n",
       "      <td>VISA BUSINESS</td>\n",
       "      <td>2018-01-10</td>\n",
       "      <td>2020-12-31</td>\n",
       "    </tr>\n",
       "    <tr>\n",
       "      <th>4</th>\n",
       "      <td>427406</td>\n",
       "      <td>VISA BUSINESS</td>\n",
       "      <td>2018-01-10</td>\n",
       "      <td>2020-12-31</td>\n",
       "    </tr>\n",
       "  </tbody>\n",
       "</table>\n",
       "</div>"
      ],
      "text/plain": [
       "      BIN      CARD_TYPE start_date   end_date\n",
       "0  427400  VISA BUSINESS 2018-01-10 2020-12-31\n",
       "1  427402  VISA BUSINESS 2018-01-10 2020-12-31\n",
       "2  427403  VISA BUSINESS 2018-01-10 2020-12-31\n",
       "3  427404  VISA BUSINESS 2018-01-10 2020-12-31\n",
       "4  427406  VISA BUSINESS 2018-01-10 2020-12-31"
      ]
     },
     "execution_count": 16,
     "metadata": {},
     "output_type": "execute_result"
    }
   ],
   "source": [
    "os.chdir('C:/Users/maxim.buldakov/Desktop/Private/VISA')\n",
    "\n",
    "df_bin_conditions = pd.read_excel('visa_sber_mass-classes_v.xlsx')\n",
    "df_bin_conditions[:5]"
   ]
  },
  {
   "cell_type": "code",
   "execution_count": 17,
   "metadata": {
    "ExecuteTime": {
     "end_time": "2020-06-01T06:14:08.378447Z",
     "start_time": "2020-06-01T06:14:08.369471Z"
    }
   },
   "outputs": [],
   "source": [
    "df_fin = pd.merge(df, df_bin_conditions, left_on = 'bin_number', right_on = 'BIN', how = 'inner')"
   ]
  },
  {
   "cell_type": "code",
   "execution_count": 18,
   "metadata": {
    "ExecuteTime": {
     "end_time": "2020-06-01T06:14:08.674713Z",
     "start_time": "2020-06-01T06:14:08.661748Z"
    }
   },
   "outputs": [],
   "source": [
    "def if_date_comp(st,en, r):\n",
    "    if r <= en.date() and  r >= st.date():\n",
    "        v = 1\n",
    "    else:\n",
    "        v = 0\n",
    "    return v\n",
    "\n",
    "df_fin['is_in_group'] = list(map(lambda st,en,r: if_date_comp(st,en,r), df_fin['start_date'] , df_fin['end_date'] , df_fin['date_key']   ) )"
   ]
  },
  {
   "cell_type": "code",
   "execution_count": 19,
   "metadata": {
    "ExecuteTime": {
     "end_time": "2020-06-01T06:14:09.135860Z",
     "start_time": "2020-06-01T06:14:09.110889Z"
    }
   },
   "outputs": [],
   "source": [
    "df_fin.date_key = pd.to_datetime(df_fin.date_key)\n",
    "df_fin[\"start_date\"] = pd.to_datetime(df_fin.start_date).apply(lambda x: x.date())\n",
    "df_fin[\"end_date\"] = pd.to_datetime(df_fin.end_date).apply(lambda x: x.date())\n",
    "df_fin[\"start_date\"] = pd.to_datetime(df_fin.start_date).dt.date\n",
    "df_fin[\"end_date\"] = pd.to_datetime(df_fin.end_date).dt.date\n",
    "df_fin.date_key = pd.to_datetime(df_fin.date_key).dt.date"
   ]
  },
  {
   "cell_type": "code",
   "execution_count": 20,
   "metadata": {
    "ExecuteTime": {
     "end_time": "2020-06-01T06:14:09.714882Z",
     "start_time": "2020-06-01T06:14:09.704883Z"
    }
   },
   "outputs": [],
   "source": [
    "df_fin = df_fin[df_fin['is_in_group'] == 1]"
   ]
  },
  {
   "cell_type": "code",
   "execution_count": 21,
   "metadata": {
    "ExecuteTime": {
     "end_time": "2020-06-01T06:14:10.002245Z",
     "start_time": "2020-06-01T06:14:09.982300Z"
    }
   },
   "outputs": [],
   "source": [
    "z = pd.concat([df_fin[df_fin.financing_type == 'VISA_Sberbank_20']\n",
    "               , df_fin[df_fin.financing_type != 'VISA_Sberbank_20']], axis = 0).drop_duplicates() #.to_excel('visa_report_august_to31.xlsx')"
   ]
  },
  {
   "cell_type": "code",
   "execution_count": 22,
   "metadata": {
    "ExecuteTime": {
     "end_time": "2020-06-01T06:14:10.244019Z",
     "start_time": "2020-06-01T06:14:10.240030Z"
    }
   },
   "outputs": [],
   "source": [
    "x = z.copy()"
   ]
  },
  {
   "cell_type": "code",
   "execution_count": 23,
   "metadata": {
    "ExecuteTime": {
     "end_time": "2020-06-01T06:14:10.527813Z",
     "start_time": "2020-06-01T06:14:10.512854Z"
    }
   },
   "outputs": [
    {
     "data": {
      "text/plain": [
       "(1363, 23)"
      ]
     },
     "execution_count": 23,
     "metadata": {},
     "output_type": "execute_result"
    }
   ],
   "source": [
    "z = pd.concat([df_fin[df_fin.financing_type == 'VISA_Sberbank_20']\n",
    "               , df_fin[df_fin.financing_type != 'VISA_Sberbank_20']], axis = 0)\n",
    "z.shape"
   ]
  },
  {
   "cell_type": "code",
   "execution_count": 24,
   "metadata": {
    "ExecuteTime": {
     "end_time": "2020-06-01T06:14:10.958650Z",
     "start_time": "2020-06-01T06:14:10.933717Z"
    }
   },
   "outputs": [
    {
     "data": {
      "text/plain": [
       "(1363, 23)"
      ]
     },
     "execution_count": 24,
     "metadata": {},
     "output_type": "execute_result"
    }
   ],
   "source": [
    "z = pd.concat([df_fin[df_fin.financing_type == 'VISA_Sberbank_20']\n",
    "               , df_fin[df_fin.financing_type != 'VISA_Sberbank_20']], axis = 0).drop_duplicates()\n",
    "z.shape"
   ]
  },
  {
   "cell_type": "markdown",
   "metadata": {},
   "source": [
    "## Google sheets"
   ]
  },
  {
   "cell_type": "code",
   "execution_count": 25,
   "metadata": {
    "ExecuteTime": {
     "end_time": "2020-06-01T06:14:12.228932Z",
     "start_time": "2020-06-01T06:14:12.127967Z"
    }
   },
   "outputs": [],
   "source": [
    "## В ЭТОМ БЛОКЕ ПОДКЛЮЧАЕМ НЕОБХОДИМЫЕ БИБЛИОТЕКИ\n",
    "\n",
    "# Стандартные библиотеки для работы с DataFrame - так большие данные хранит Python\n",
    "import pandas as pd\n",
    "\n",
    "# Библиотеки для работы с временем\n",
    "import datetime\n",
    "import time\n",
    "\n",
    "#Библиотеки для подключения к GoogleSheets\n",
    "import gspread \n",
    "from oauth2client.service_account import ServiceAccountCredentials\n",
    "import gspread_dataframe as gd"
   ]
  },
  {
   "cell_type": "code",
   "execution_count": 26,
   "metadata": {
    "ExecuteTime": {
     "end_time": "2020-06-01T06:14:13.515298Z",
     "start_time": "2020-06-01T06:14:13.259985Z"
    }
   },
   "outputs": [
    {
     "data": {
      "text/plain": [
       "True"
      ]
     },
     "execution_count": 26,
     "metadata": {},
     "output_type": "execute_result"
    }
   ],
   "source": [
    "import webbrowser\n",
    "\n",
    "site1 =  \"https://docs.google.com/spreadsheets/d/1e5GjaQvmqs0xrhjJVc-FpN2TIpeQGpWw1WYmjLyW63s/edit#gid=2106537651\"\n",
    "webbrowser.open(site1, new = 2)"
   ]
  },
  {
   "cell_type": "code",
   "execution_count": 27,
   "metadata": {
    "ExecuteTime": {
     "end_time": "2020-06-01T06:14:20.606118Z",
     "start_time": "2020-06-01T06:14:20.238010Z"
    }
   },
   "outputs": [],
   "source": [
    "## В ЭТОМ БЛОКЕ ПОДКЛЮЧАЕМСЯ К GOOGLE SHEETS ТАБЛИЦЕ\n",
    "\n",
    "# Стандартные строчки\n",
    "scope = ['https://spreadsheets.google.com/feeds']\n",
    "\n",
    "# Название файла с данными от клиента\n",
    "creds = ServiceAccountCredentials.from_json_keyfile_name('C:/Users/maxim.buldakov/Desktop/Private/gapi-prj1.json', scope)\n",
    "client = gspread.authorize(creds)\n",
    "\n",
    "# Ссылка на таблицу, куда подключаемся \n",
    "table = client.open_by_url(site1)"
   ]
  },
  {
   "cell_type": "code",
   "execution_count": 28,
   "metadata": {
    "ExecuteTime": {
     "end_time": "2020-06-01T06:14:22.265438Z",
     "start_time": "2020-06-01T06:14:21.450592Z"
    }
   },
   "outputs": [
    {
     "data": {
      "text/plain": [
       "{'spreadsheetId': '1e5GjaQvmqs0xrhjJVc-FpN2TIpeQGpWw1WYmjLyW63s',\n",
       " 'clearedRange': 'report!A1:Z2828'}"
      ]
     },
     "execution_count": 28,
     "metadata": {},
     "output_type": "execute_result"
    }
   ],
   "source": [
    "# Подключаемся к конкретному листу в таблице\n",
    "ws = table.worksheet('report')\n",
    "# Очищаем этот лист\n",
    "ws.clear()"
   ]
  },
  {
   "cell_type": "code",
   "execution_count": 29,
   "metadata": {
    "ExecuteTime": {
     "end_time": "2020-06-01T06:14:24.032701Z",
     "start_time": "2020-06-01T06:14:22.483853Z"
    }
   },
   "outputs": [],
   "source": [
    "#add part\n",
    "x1 = x.copy()\n",
    "x1 = x1.drop(['order_gk', 'riding_user_gk', 'date_key_time', 'start_date', 'end_date', 'is_in_group','order_datetime'], axis = 1)\n",
    "x1['paid_with_prepaid'] = x1['paid_with_prepaid'].astype('float64')\n",
    "x1['paid_with_prepaid'] = x1['paid_with_prepaid'].fillna(0)\n",
    "x1['paid_with_prepaid'] = x1['paid_with_prepaid'].apply(lambda row: 1 if row > 0 else 0)\n",
    "x1 = x1.sort_values(by = ['order_gk_str', 'tx_type'])\n",
    "gd.set_with_dataframe(ws, x1, row=1, col=1)"
   ]
  },
  {
   "cell_type": "code",
   "execution_count": 30,
   "metadata": {
    "ExecuteTime": {
     "end_time": "2020-06-01T06:14:24.264201Z",
     "start_time": "2020-06-01T06:14:24.257858Z"
    }
   },
   "outputs": [],
   "source": [
    "dates = {'From': [start_date], 'To': [end_date]}\n",
    "dates = pd.DataFrame(data=dates)"
   ]
  },
  {
   "cell_type": "code",
   "execution_count": 31,
   "metadata": {
    "ExecuteTime": {
     "end_time": "2020-06-01T06:14:24.833456Z",
     "start_time": "2020-06-01T06:14:24.508188Z"
    }
   },
   "outputs": [],
   "source": [
    "summary = table.worksheet('summary')\n",
    "#summary.clear()"
   ]
  },
  {
   "cell_type": "code",
   "execution_count": 32,
   "metadata": {
    "ExecuteTime": {
     "end_time": "2020-06-01T06:14:25.416127Z",
     "start_time": "2020-06-01T06:14:25.068792Z"
    }
   },
   "outputs": [],
   "source": [
    "gd.set_with_dataframe(summary, dates, row=1, col=1)"
   ]
  },
  {
   "cell_type": "code",
   "execution_count": 33,
   "metadata": {
    "ExecuteTime": {
     "end_time": "2020-06-01T06:14:26.395887Z",
     "start_time": "2020-06-01T06:14:25.652303Z"
    }
   },
   "outputs": [
    {
     "data": {
      "text/plain": [
       "{'spreadsheetId': '1e5GjaQvmqs0xrhjJVc-FpN2TIpeQGpWw1WYmjLyW63s',\n",
       " 'clearedRange': 'raw!A1:Z2979'}"
      ]
     },
     "execution_count": 33,
     "metadata": {},
     "output_type": "execute_result"
    }
   ],
   "source": [
    "# Подключаемся к конкретному листу в таблице\n",
    "ws1 = table.worksheet('raw')\n",
    "# Очищаем этот лист\n",
    "ws1.clear()"
   ]
  },
  {
   "cell_type": "code",
   "execution_count": 34,
   "metadata": {
    "ExecuteTime": {
     "end_time": "2020-06-01T06:14:28.285620Z",
     "start_time": "2020-06-01T06:14:26.653168Z"
    }
   },
   "outputs": [],
   "source": [
    "gd.set_with_dataframe(ws1, tt, row=1, col=1)"
   ]
  },
  {
   "cell_type": "code",
   "execution_count": 35,
   "metadata": {
    "ExecuteTime": {
     "end_time": "2020-06-01T06:14:28.504871Z",
     "start_time": "2020-06-01T06:14:28.500880Z"
    }
   },
   "outputs": [],
   "source": [
    "#end of script"
   ]
  },
  {
   "cell_type": "code",
   "execution_count": null,
   "metadata": {},
   "outputs": [],
   "source": []
  }
 ],
 "metadata": {
  "kernelspec": {
   "display_name": "Python 3",
   "language": "python",
   "name": "python3"
  },
  "language_info": {
   "codemirror_mode": {
    "name": "ipython",
    "version": 3
   },
   "file_extension": ".py",
   "mimetype": "text/x-python",
   "name": "python",
   "nbconvert_exporter": "python",
   "pygments_lexer": "ipython3",
   "version": "3.7.1"
  },
  "toc": {
   "base_numbering": 1,
   "nav_menu": {},
   "number_sections": false,
   "sideBar": true,
   "skip_h1_title": false,
   "title_cell": "Table of Contents",
   "title_sidebar": "Contents",
   "toc_cell": false,
   "toc_position": {
    "height": "calc(100% - 180px)",
    "left": "10px",
    "top": "150px",
    "width": "166.667px"
   },
   "toc_section_display": true,
   "toc_window_display": true
  },
  "varInspector": {
   "cols": {
    "lenName": 16,
    "lenType": 16,
    "lenVar": 40
   },
   "kernels_config": {
    "python": {
     "delete_cmd_postfix": "",
     "delete_cmd_prefix": "del ",
     "library": "var_list.py",
     "varRefreshCmd": "print(var_dic_list())"
    },
    "r": {
     "delete_cmd_postfix": ") ",
     "delete_cmd_prefix": "rm(",
     "library": "var_list.r",
     "varRefreshCmd": "cat(var_dic_list()) "
    }
   },
   "position": {
    "height": "561.984px",
    "left": "1529.97px",
    "right": "20px",
    "top": "125.984px",
    "width": "366.938px"
   },
   "types_to_exclude": [
    "module",
    "function",
    "builtin_function_or_method",
    "instance",
    "_Feature"
   ],
   "window_display": true
  }
 },
 "nbformat": 4,
 "nbformat_minor": 2
}
